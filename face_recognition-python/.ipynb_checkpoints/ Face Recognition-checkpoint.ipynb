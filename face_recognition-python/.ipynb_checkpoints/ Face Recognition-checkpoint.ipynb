{
 "cells": [
  {
   "cell_type": "markdown",
   "id": "b5ae794d-120f-4f62-ba03-76db400dbf69",
   "metadata": {},
   "source": [
    "اضافه کردن کتابخانه"
   ]
  },
  {
   "cell_type": "code",
   "execution_count": 19,
   "id": "d30da87d-4fc4-4ceb-8c62-53627e6e954f",
   "metadata": {},
   "outputs": [],
   "source": [
    "import cv2\n",
    "import numpy as np\n",
    "\n"
   ]
  },
  {
   "cell_type": "markdown",
   "id": "c6fecca1-5746-45de-b123-781d97b72cca",
   "metadata": {},
   "source": [
    "استفاده از کتابخانه cv2 و دسته بندی ابشاری جهت تشخیص چهره در تصویر و فیلم"
   ]
  },
  {
   "cell_type": "code",
   "execution_count": 20,
   "id": "6e533811-6fd8-43dc-9bf1-16b95f0e54e5",
   "metadata": {},
   "outputs": [],
   "source": [
    "face_cascade = cv2.CascadeClassifier(cv2.data.haarcascades + 'haarcascade_frontalface_default.xml')\n"
   ]
  },
  {
   "cell_type": "code",
   "execution_count": 29,
   "id": "622afdd6-b92f-4172-8185-ec29212acd10",
   "metadata": {},
   "outputs": [],
   "source": [
    "cap = cv2.VideoCapture(0)\n",
    "while True:\n",
    "    # Capture frame-by-frame\n",
    "    ret, frame = cap.read()\n",
    "\n",
    "    # Convert the image to grayscale\n",
    "    gray = cv2.cvtColor(frame, cv2.COLOR_BGR2GRAY)\n",
    "\n",
    "    # Detect faces in the grayscale image\n",
    "    faces = face_cascade.detectMultiScale(gray, scaleFactor=1.1, minNeighbors=5, minSize=(30, 30))\n",
    "\n",
    "    # Draw a rectangle around the faces\n",
    "    for (x, y, w, h) in faces:\n",
    "        cv2.rectangle(frame, (x, y), (x+w, y+h), (0, 255, 0), 2)\n",
    "\n",
    "    # Display the resulting frame\n",
    "    cv2.imshow('Video', frame)\n",
    "\n",
    "    # Break the loop on 'q' key press\n",
    "    if cv2.waitKey(1) & 0xFF == ord('q'):\n",
    "        break\n"
   ]
  },
  {
   "cell_type": "markdown",
   "id": "65b30359-cad3-49cd-9e4b-6142d6b0fb7f",
   "metadata": {},
   "source": [
    "گرفتن عکس از صورت شخص و ذخیره آن در مسیر جاری"
   ]
  },
  {
   "cell_type": "code",
   "execution_count": 30,
   "id": "baf89eec-cb5c-413e-9453-6b857504dcec",
   "metadata": {},
   "outputs": [
    {
     "name": "stdout",
     "output_type": "stream",
     "text": [
      "Face saved!\n"
     ]
    }
   ],
   "source": [
    "if len(faces) > 0:\n",
    "    for (x, y, w, h) in faces:\n",
    "        # Crop the face from the frameq\n",
    "        face_img = frame[y:y+h, x:x+w]\n",
    "        \n",
    "        # Save the face image\n",
    "        cv2.imwrite('face.jpg', face_img)\n",
    "        print(\"Face saved!\")\n",
    "\n",
    "cap.release()\n",
    "cv2.destroyAllWindows()"
   ]
  },
  {
   "cell_type": "markdown",
   "id": "eccf8877-cde4-4ea7-8125-b97b8107adf8",
   "metadata": {},
   "source": [
    "بله، می‌توانید از تابع face_recognition.face_encodings در کتابخانه‌ی face_recognition برای تشخیص و کدگذاری چهره‌ها استفاده کنید. این کتابخانه، یکی از ساده‌ترین کتابخانه‌ها برای تشخیص چهره در پایتون است و با استفاده از دستگاه‌های عمیق dlib ساخته شده است.\n",
    "\n",
    "تابع face_recognition.face_encodings برای هر چهره در تصویر، یک بردار ۱۲۸ بعدی (یا همان کدگذاری چهره) با اعداد اعشاری برمی‌گرداند. این بردارها می‌توانند برای ساخت مدل‌های دسته‌بندی ماشینی مورد استفاده قرار گیرند12.\n",
    "\n",
    "برای استفاده از این تابع، می‌توانید به شکل زیر عمل کنید:"
   ]
  },
  {
   "cell_type": "markdown",
   "id": "e86ef965-153b-43d7-a747-b5183f15be64",
   "metadata": {},
   "source": [
    "مقایسه دو تصویر "
   ]
  },
  {
   "cell_type": "code",
   "execution_count": 14,
   "id": "c5544dc9-be1c-4e12-bc1a-687f4c4a9d67",
   "metadata": {},
   "outputs": [],
   "source": [
    "known_image = face_recognition.load_image_file(\"amir2.jpg\")\n",
    "unknown_image = face_recognition.load_image_file(\"face.jpg\")\n",
    "\n",
    "biden_encoding = face_recognition.face_encodings(known_image)[0]\n",
    "unknown_encoding = face_recognition.face_encodings(unknown_image)[0]\n",
    "\n",
    "results = face_recognition.compare_faces([biden_encoding], unknown_encoding)\n",
    "results"
   ]
  }
 ],
 "metadata": {
  "kernelspec": {
   "display_name": "Python 3 (ipykernel)",
   "language": "python",
   "name": "python3"
  },
  "language_info": {
   "codemirror_mode": {
    "name": "ipython",
    "version": 3
   },
   "file_extension": ".py",
   "mimetype": "text/x-python",
   "name": "python",
   "nbconvert_exporter": "python",
   "pygments_lexer": "ipython3",
   "version": "3.11.2"
  }
 },
 "nbformat": 4,
 "nbformat_minor": 5
}
