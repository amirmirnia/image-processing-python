{
 "cells": [
  {
   "cell_type": "markdown",
   "id": "b5ae794d-120f-4f62-ba03-76db400dbf69",
   "metadata": {},
   "source": [
    "اضافه کردن کتابخانه"
   ]
  },
  {
   "cell_type": "code",
   "execution_count": 11,
   "id": "d30da87d-4fc4-4ceb-8c62-53627e6e954f",
   "metadata": {},
   "outputs": [],
   "source": [
    "import cv2\n",
    "import numpy as np\n",
    "\n"
   ]
  },
  {
   "cell_type": "markdown",
   "id": "c6fecca1-5746-45de-b123-781d97b72cca",
   "metadata": {},
   "source": [
    "استفاده از کتابخانه cv2 و دسته بندی ابشاری جهت تشخیص چهره در تصویر و فیلم"
   ]
  },
  {
   "cell_type": "code",
   "execution_count": 12,
   "id": "6e533811-6fd8-43dc-9bf1-16b95f0e54e5",
   "metadata": {},
   "outputs": [],
   "source": [
    "face_cascade = cv2.CascadeClassifier(cv2.data.haarcascades + 'haarcascade_frontalface_default.xml')\n"
   ]
  },
  {
   "cell_type": "code",
   "execution_count": 13,
   "id": "622afdd6-b92f-4172-8185-ec29212acd10",
   "metadata": {},
   "outputs": [],
   "source": [
    "cap = cv2.VideoCapture(0)\n",
    "while True:\n",
    "    # Capture frame-by-frame\n",
    "    ret, frame = cap.read()\n",
    "\n",
    "    # Convert the image to grayscale\n",
    "    gray = cv2.cvtColor(frame, cv2.COLOR_BGR2GRAY)\n",
    "\n",
    "    # Detect faces in the grayscale image\n",
    "    faces = face_cascade.detectMultiScale(gray, scaleFactor=1.1, minNeighbors=5, minSize=(30, 30))\n",
    "\n",
    "    # Draw a rectangle around the faces\n",
    "    for (x, y, w, h) in faces:\n",
    "        cv2.rectangle(frame, (x, y), (x+w, y+h), (0, 255, 0), 2)\n",
    "\n",
    "    # Display the resulting frame\n",
    "    cv2.imshow('Video', frame)\n",
    "\n",
    "    # Break the loop on 'q' key press\n",
    "    if cv2.waitKey(1) & 0xFF == ord('q'):\n",
    "        break\n"
   ]
  },
  {
   "cell_type": "markdown",
   "id": "65b30359-cad3-49cd-9e4b-6142d6b0fb7f",
   "metadata": {},
   "source": [
    "گرفتن عکس از صورت شخص و ذخیره آن در مسیر جاری"
   ]
  },
  {
   "cell_type": "code",
   "execution_count": 14,
   "id": "baf89eec-cb5c-413e-9453-6b857504dcec",
   "metadata": {},
   "outputs": [
    {
     "name": "stdout",
     "output_type": "stream",
     "text": [
      "Face saved!\n"
     ]
    }
   ],
   "source": [
    "if len(faces) > 0:\n",
    "    for (x, y, w, h) in faces:\n",
    "        # Crop the face from the frameq\n",
    "        face_img = frame[y:y+h, x:x+w]\n",
    "        \n",
    "        # Save the face image\n",
    "        cv2.imwrite('face.jpg', face_img)\n",
    "        print(\"Face saved!\")\n",
    "\n",
    "cap.release()\n",
    "cv2.destroyAllWindows()"
   ]
  },
  {
   "cell_type": "markdown",
   "id": "eccf8877-cde4-4ea7-8125-b97b8107adf8",
   "metadata": {},
   "source": [
    "بله، می‌توانید از تابع face_recognition.face_encodings در کتابخانه‌ی face_recognition برای تشخیص و کدگذاری چهره‌ها استفاده کنید. این کتابخانه، یکی از ساده‌ترین کتابخانه‌ها برای تشخیص چهره در پایتون است و با استفاده از دستگاه‌های عمیق dlib ساخته شده است.\n",
    "\n",
    "تابع face_recognition.face_encodings برای هر چهره در تصویر، یک بردار ۱۲۸ بعدی (یا همان کدگذاری چهره) با اعداد اعشاری برمی‌گرداند. این بردارها می‌توانند برای ساخت مدل‌های دسته‌بندی ماشینی مورد استفاده قرار گیرند12.\n",
    "\n",
    "برای استفاده از این تابع، می‌توانید به شکل زیر عمل کنید:"
   ]
  },
  {
   "cell_type": "markdown",
   "id": "e86ef965-153b-43d7-a747-b5183f15be64",
   "metadata": {},
   "source": [
    "مقایسه دو تصویر "
   ]
  },
  {
   "cell_type": "code",
   "execution_count": 17,
   "id": "c5544dc9-be1c-4e12-bc1a-687f4c4a9d67",
   "metadata": {},
   "outputs": [
    {
     "data": {
      "text/plain": [
       "array([-7.96197206e-02,  1.22271523e-01,  6.38280660e-02,  1.08364387e-03,\n",
       "       -7.81316590e-03,  1.42707909e-03, -6.63780570e-02, -7.53861666e-02,\n",
       "        2.40527377e-01, -1.28327504e-01,  1.52295679e-01,  6.49631843e-02,\n",
       "       -1.14169925e-01, -4.98908758e-02, -5.01760095e-02,  1.21395007e-01,\n",
       "       -1.63781241e-01, -1.45615697e-01, -5.94338477e-02, -1.03902586e-01,\n",
       "       -2.08007842e-02,  1.35369999e-02,  4.33250666e-02,  1.76298656e-02,\n",
       "       -1.65256441e-01, -2.97364056e-01, -8.56481493e-02, -1.38719797e-01,\n",
       "        1.23318300e-01, -4.23462223e-03, -4.78977710e-02, -6.94305077e-02,\n",
       "       -2.37137258e-01, -5.25581613e-02, -1.65735595e-02,  3.73271406e-02,\n",
       "        4.77727689e-03, -4.77661118e-02,  1.70897022e-01, -3.85176390e-04,\n",
       "       -6.90037757e-02,  2.65744273e-02, -3.10477503e-02,  2.46959820e-01,\n",
       "        1.61794886e-01,  7.02484548e-02,  7.84681812e-02, -3.40890177e-02,\n",
       "        1.02119140e-01, -2.84186453e-01,  1.17956847e-01,  7.93181136e-02,\n",
       "        3.83129828e-02,  9.52613428e-02,  5.90595864e-02, -1.72068447e-01,\n",
       "        3.11374143e-02,  1.16192937e-01, -2.21361876e-01,  1.60079166e-01,\n",
       "        2.91635431e-02,  5.15668951e-02, -2.26655584e-02,  8.54964778e-02,\n",
       "        2.94576645e-01,  1.88775167e-01, -1.12937897e-01, -1.35460615e-01,\n",
       "        1.42697662e-01, -1.89475641e-01,  5.98613694e-02,  1.91738103e-02,\n",
       "       -6.29462823e-02, -1.87805399e-01, -2.50773787e-01,  1.27123296e-01,\n",
       "        4.46399212e-01,  2.29797021e-01, -1.18461877e-01,  5.43437041e-02,\n",
       "       -6.77294135e-02,  7.18602818e-03,  1.14070654e-01,  3.95162143e-02,\n",
       "       -1.15686245e-01,  1.44633632e-02, -6.66282251e-02,  8.45891684e-02,\n",
       "        2.06836104e-01,  6.12572879e-02, -1.22920997e-01,  2.14961335e-01,\n",
       "       -2.76849028e-02,  2.39689033e-02, -1.30376210e-02,  5.36190271e-02,\n",
       "       -7.82157183e-02,  7.80575443e-04, -8.96582529e-02,  4.09732610e-02,\n",
       "        8.77470225e-02,  5.00470027e-02,  1.67667940e-02,  9.54464301e-02,\n",
       "       -9.50428396e-02,  1.30703568e-01, -7.07511157e-02, -2.88224183e-02,\n",
       "       -4.40020263e-02,  7.07274005e-02, -1.53434172e-01, -1.43545074e-02,\n",
       "        1.34607732e-01, -2.28451386e-01,  2.70732552e-01,  1.48552448e-01,\n",
       "        2.18330994e-02,  1.83740243e-01,  7.12113827e-02,  1.20276771e-02,\n",
       "        9.56954807e-02,  8.10825638e-03, -9.93063673e-02, -9.49026346e-02,\n",
       "        1.99869312e-02, -7.30716288e-02,  1.42201930e-01,  7.22962171e-02])"
      ]
     },
     "execution_count": 17,
     "metadata": {},
     "output_type": "execute_result"
    }
   ],
   "source": [
    "import face_recognition\n",
    "\n",
    "known_image = face_recognition.load_image_file(\"amir2.jpg\")\n",
    "unknown_image = face_recognition.load_image_file(\"face.jpg\")\n",
    "\n",
    "biden_encoding = face_recognition.face_encodings(known_image)[0]\n",
    "unknown_encoding = face_recognition.face_encodings(unknown_image)[0]\n",
    "\n",
    "results = face_recognition.compare_faces([biden_encoding], unknown_encoding)\n",
    "results"
   ]
  },
  {
   "cell_type": "code",
   "execution_count": null,
   "id": "7f09a356-ce30-4fd9-93bc-0a7533c1a5c3",
   "metadata": {},
   "outputs": [],
   "source": []
  }
 ],
 "metadata": {
  "kernelspec": {
   "display_name": "Python 3 (ipykernel)",
   "language": "python",
   "name": "python3"
  },
  "language_info": {
   "codemirror_mode": {
    "name": "ipython",
    "version": 3
   },
   "file_extension": ".py",
   "mimetype": "text/x-python",
   "name": "python",
   "nbconvert_exporter": "python",
   "pygments_lexer": "ipython3",
   "version": "3.11.2"
  }
 },
 "nbformat": 4,
 "nbformat_minor": 5
}
